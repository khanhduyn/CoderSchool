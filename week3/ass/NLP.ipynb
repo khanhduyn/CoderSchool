{
 "cells": [
  {
   "cell_type": "markdown",
   "metadata": {},
   "source": [
    "NLP\n",
    "===\n",
    "- Bag of Words\n",
    "- TFIDF\n",
    "- Doc2Vec"
   ]
  },
  {
   "cell_type": "markdown",
   "metadata": {},
   "source": [
    "# 1. Build feature vectors for song lyrics"
   ]
  },
  {
   "cell_type": "code",
   "execution_count": 230,
   "metadata": {},
   "outputs": [],
   "source": [
    "import pandas as pd\n",
    "import numpy as np\n",
    "import matplotlib.pyplot as plt\n",
    "%matplotlib inline"
   ]
  },
  {
   "cell_type": "code",
   "execution_count": 231,
   "metadata": {},
   "outputs": [
    {
     "data": {
      "text/html": [
       "<div>\n",
       "<style scoped>\n",
       "    .dataframe tbody tr th:only-of-type {\n",
       "        vertical-align: middle;\n",
       "    }\n",
       "\n",
       "    .dataframe tbody tr th {\n",
       "        vertical-align: top;\n",
       "    }\n",
       "\n",
       "    .dataframe thead th {\n",
       "        text-align: right;\n",
       "    }\n",
       "</style>\n",
       "<table border=\"1\" class=\"dataframe\">\n",
       "  <thead>\n",
       "    <tr style=\"text-align: right;\">\n",
       "      <th></th>\n",
       "      <th>_id</th>\n",
       "      <th>album</th>\n",
       "      <th>artist</th>\n",
       "      <th>audio_features</th>\n",
       "      <th>context</th>\n",
       "      <th>decades</th>\n",
       "      <th>genres</th>\n",
       "      <th>lyrics_features</th>\n",
       "      <th>moods</th>\n",
       "      <th>name</th>\n",
       "      <th>new_context</th>\n",
       "      <th>picture</th>\n",
       "      <th>recording_id</th>\n",
       "      <th>sub_context</th>\n",
       "      <th>yt_id</th>\n",
       "      <th>yt_views</th>\n",
       "    </tr>\n",
       "  </thead>\n",
       "  <tbody>\n",
       "    <tr>\n",
       "      <th>0</th>\n",
       "      <td>{'$oid': '52fdfb440b9398049f3d7a8c'}</td>\n",
       "      <td>Gangnam Style (강남스타일)</td>\n",
       "      <td>PSY</td>\n",
       "      <td>[11, 0.912744, 0.083704, 132.069, 0.293137, 0....</td>\n",
       "      <td>[work out]</td>\n",
       "      <td>[]</td>\n",
       "      <td>[pop]</td>\n",
       "      <td>[oppa, gangnam, style, gangnam, style, najeneu...</td>\n",
       "      <td>[energetic, motivational]</td>\n",
       "      <td>Gangnam Style (강남스타일)</td>\n",
       "      <td>work out</td>\n",
       "      <td>http://images.musicnet.com/albums/073/463/405/...</td>\n",
       "      <td>50232.0</td>\n",
       "      <td>[working out: cardio]</td>\n",
       "      <td>9bZkp7q19f0</td>\n",
       "      <td>2450112089</td>\n",
       "    </tr>\n",
       "    <tr>\n",
       "      <th>1</th>\n",
       "      <td>{'$oid': '52fdfb3d0b9398049f3cbc8e'}</td>\n",
       "      <td>Native</td>\n",
       "      <td>OneRepublic</td>\n",
       "      <td>[6, 0.7457039999999999, 0.11995499999999999, 1...</td>\n",
       "      <td>[energetic]</td>\n",
       "      <td>[2012]</td>\n",
       "      <td>[pop]</td>\n",
       "      <td>[lately, i, ve, been, i, ve, been, losing, sle...</td>\n",
       "      <td>[happy]</td>\n",
       "      <td>Counting Stars</td>\n",
       "      <td>energetic</td>\n",
       "      <td>http://images.musicnet.com/albums/081/851/887/...</td>\n",
       "      <td>5839.0</td>\n",
       "      <td>[energy boost]</td>\n",
       "      <td>hT_nvWreIhg</td>\n",
       "      <td>1020297206</td>\n",
       "    </tr>\n",
       "    <tr>\n",
       "      <th>2</th>\n",
       "      <td>{'$oid': '52fdfb420b9398049f3d3ea5'}</td>\n",
       "      <td>Party Rock Anthem</td>\n",
       "      <td>LMFAO</td>\n",
       "      <td>[5, 0.709932, 0.231455, 130.03, 0.121740999999...</td>\n",
       "      <td>[energetic, energetic, energetic, energetic]</td>\n",
       "      <td>[]</td>\n",
       "      <td>[]</td>\n",
       "      <td>[party, rock, yeah, woo, let, s, go, party, ro...</td>\n",
       "      <td>[happy, celebratory, rowdy]</td>\n",
       "      <td>Party Rock Anthem</td>\n",
       "      <td>housework</td>\n",
       "      <td>http://images.musicnet.com/albums/049/414/127/...</td>\n",
       "      <td>52379.0</td>\n",
       "      <td>[energy boost, pleasing a crowd, housework, dr...</td>\n",
       "      <td>KQ6zr6kCPj8</td>\n",
       "      <td>971128436</td>\n",
       "    </tr>\n",
       "    <tr>\n",
       "      <th>3</th>\n",
       "      <td>{'$oid': '52fdfb410b9398049f3d1eac'}</td>\n",
       "      <td>Gentleman</td>\n",
       "      <td>PSY</td>\n",
       "      <td>[3, 0.705822, 0.053292, 126.009, 0.126016, 0.0...</td>\n",
       "      <td>[party, party, party, party, party, party]</td>\n",
       "      <td>[2010s]</td>\n",
       "      <td>[dance]</td>\n",
       "      <td>[alagamun, lan, weh, wakun, heya, hanun, gon, ...</td>\n",
       "      <td>[happy, energetic, celebratory]</td>\n",
       "      <td>Gentleman</td>\n",
       "      <td>energetic</td>\n",
       "      <td>http://images.musicnet.com/albums/082/950/461/...</td>\n",
       "      <td>12353.0</td>\n",
       "      <td>[driving in the left lane, energy boost, girls...</td>\n",
       "      <td>ASO_zypdnsQ</td>\n",
       "      <td>892096527</td>\n",
       "    </tr>\n",
       "    <tr>\n",
       "      <th>4</th>\n",
       "      <td>{'$oid': '52fdfb400b9398049f3d0b19'}</td>\n",
       "      <td>On The Floor</td>\n",
       "      <td>Jennifer Lopez</td>\n",
       "      <td>[3, 0.741757, 0.07277399999999999, 129.985, 0....</td>\n",
       "      <td>[party, party]</td>\n",
       "      <td>[2000s]</td>\n",
       "      <td>[reggaeton]</td>\n",
       "      <td>[j, lo, the, other, side, out, my, mine, it, s...</td>\n",
       "      <td>[energetic]</td>\n",
       "      <td>On The Floor</td>\n",
       "      <td>work out</td>\n",
       "      <td>http://images.musicnet.com/albums/050/131/765/...</td>\n",
       "      <td>29502.0</td>\n",
       "      <td>[working out: cardio, dance party: sweaty]</td>\n",
       "      <td>t4H_Zoh7G5A</td>\n",
       "      <td>873285189</td>\n",
       "    </tr>\n",
       "  </tbody>\n",
       "</table>\n",
       "</div>"
      ],
      "text/plain": [
       "                                    _id                  album  \\\n",
       "0  {'$oid': '52fdfb440b9398049f3d7a8c'}  Gangnam Style (강남스타일)   \n",
       "1  {'$oid': '52fdfb3d0b9398049f3cbc8e'}                 Native   \n",
       "2  {'$oid': '52fdfb420b9398049f3d3ea5'}      Party Rock Anthem   \n",
       "3  {'$oid': '52fdfb410b9398049f3d1eac'}              Gentleman   \n",
       "4  {'$oid': '52fdfb400b9398049f3d0b19'}           On The Floor   \n",
       "\n",
       "           artist                                     audio_features  \\\n",
       "0             PSY  [11, 0.912744, 0.083704, 132.069, 0.293137, 0....   \n",
       "1     OneRepublic  [6, 0.7457039999999999, 0.11995499999999999, 1...   \n",
       "2           LMFAO  [5, 0.709932, 0.231455, 130.03, 0.121740999999...   \n",
       "3             PSY  [3, 0.705822, 0.053292, 126.009, 0.126016, 0.0...   \n",
       "4  Jennifer Lopez  [3, 0.741757, 0.07277399999999999, 129.985, 0....   \n",
       "\n",
       "                                        context  decades       genres  \\\n",
       "0                                    [work out]       []        [pop]   \n",
       "1                                   [energetic]   [2012]        [pop]   \n",
       "2  [energetic, energetic, energetic, energetic]       []           []   \n",
       "3    [party, party, party, party, party, party]  [2010s]      [dance]   \n",
       "4                                [party, party]  [2000s]  [reggaeton]   \n",
       "\n",
       "                                     lyrics_features  \\\n",
       "0  [oppa, gangnam, style, gangnam, style, najeneu...   \n",
       "1  [lately, i, ve, been, i, ve, been, losing, sle...   \n",
       "2  [party, rock, yeah, woo, let, s, go, party, ro...   \n",
       "3  [alagamun, lan, weh, wakun, heya, hanun, gon, ...   \n",
       "4  [j, lo, the, other, side, out, my, mine, it, s...   \n",
       "\n",
       "                             moods                   name new_context  \\\n",
       "0        [energetic, motivational]  Gangnam Style (강남스타일)    work out   \n",
       "1                          [happy]         Counting Stars   energetic   \n",
       "2      [happy, celebratory, rowdy]      Party Rock Anthem   housework   \n",
       "3  [happy, energetic, celebratory]              Gentleman   energetic   \n",
       "4                      [energetic]           On The Floor    work out   \n",
       "\n",
       "                                             picture  recording_id  \\\n",
       "0  http://images.musicnet.com/albums/073/463/405/...       50232.0   \n",
       "1  http://images.musicnet.com/albums/081/851/887/...        5839.0   \n",
       "2  http://images.musicnet.com/albums/049/414/127/...       52379.0   \n",
       "3  http://images.musicnet.com/albums/082/950/461/...       12353.0   \n",
       "4  http://images.musicnet.com/albums/050/131/765/...       29502.0   \n",
       "\n",
       "                                         sub_context        yt_id    yt_views  \n",
       "0                              [working out: cardio]  9bZkp7q19f0  2450112089  \n",
       "1                                     [energy boost]  hT_nvWreIhg  1020297206  \n",
       "2  [energy boost, pleasing a crowd, housework, dr...  KQ6zr6kCPj8   971128436  \n",
       "3  [driving in the left lane, energy boost, girls...  ASO_zypdnsQ   892096527  \n",
       "4         [working out: cardio, dance party: sweaty]  t4H_Zoh7G5A   873285189  "
      ]
     },
     "execution_count": 231,
     "metadata": {},
     "output_type": "execute_result"
    }
   ],
   "source": [
    "df_master_song = pd.read_json('../../data/MasterSongList.json')\n",
    "df_master_song.head()"
   ]
  },
  {
   "cell_type": "markdown",
   "metadata": {},
   "source": [
    "## Format input\n",
    "- lower case\n",
    "- remove punctuation\n",
    "- stop word\n",
    "- stemming"
   ]
  },
  {
   "cell_type": "code",
   "execution_count": 232,
   "metadata": {},
   "outputs": [],
   "source": [
    "# Filter empty lyrics_features\n",
    "df_master_song = df_master_song[df_master_song.loc[:, 'lyrics_features'].str.len() > 0]\n",
    "df_master_song = df_master_song[df_master_song.loc[:, 'moods'].str.len() > 0]\n",
    "df_master_song.reset_index(drop=True, inplace=True)"
   ]
  },
  {
   "cell_type": "code",
   "execution_count": 233,
   "metadata": {},
   "outputs": [
    {
     "data": {
      "text/html": [
       "<div>\n",
       "<style scoped>\n",
       "    .dataframe tbody tr th:only-of-type {\n",
       "        vertical-align: middle;\n",
       "    }\n",
       "\n",
       "    .dataframe tbody tr th {\n",
       "        vertical-align: top;\n",
       "    }\n",
       "\n",
       "    .dataframe thead th {\n",
       "        text-align: right;\n",
       "    }\n",
       "</style>\n",
       "<table border=\"1\" class=\"dataframe\">\n",
       "  <thead>\n",
       "    <tr style=\"text-align: right;\">\n",
       "      <th></th>\n",
       "      <th>_id</th>\n",
       "      <th>album</th>\n",
       "      <th>artist</th>\n",
       "      <th>audio_features</th>\n",
       "      <th>context</th>\n",
       "      <th>decades</th>\n",
       "      <th>genres</th>\n",
       "      <th>lyrics_features</th>\n",
       "      <th>moods</th>\n",
       "      <th>name</th>\n",
       "      <th>new_context</th>\n",
       "      <th>picture</th>\n",
       "      <th>recording_id</th>\n",
       "      <th>sub_context</th>\n",
       "      <th>yt_id</th>\n",
       "      <th>yt_views</th>\n",
       "    </tr>\n",
       "  </thead>\n",
       "  <tbody>\n",
       "    <tr>\n",
       "      <th>0</th>\n",
       "      <td>{'$oid': '52fdfb440b9398049f3d7a8c'}</td>\n",
       "      <td>Gangnam Style (강남스타일)</td>\n",
       "      <td>PSY</td>\n",
       "      <td>[11, 0.912744, 0.083704, 132.069, 0.293137, 0....</td>\n",
       "      <td>[work out]</td>\n",
       "      <td>[]</td>\n",
       "      <td>[pop]</td>\n",
       "      <td>oppa gangnam style gangnam style najeneun ttas...</td>\n",
       "      <td>[energetic, motivational]</td>\n",
       "      <td>Gangnam Style (강남스타일)</td>\n",
       "      <td>work out</td>\n",
       "      <td>http://images.musicnet.com/albums/073/463/405/...</td>\n",
       "      <td>50232.0</td>\n",
       "      <td>[working out: cardio]</td>\n",
       "      <td>9bZkp7q19f0</td>\n",
       "      <td>2450112089</td>\n",
       "    </tr>\n",
       "    <tr>\n",
       "      <th>1</th>\n",
       "      <td>{'$oid': '52fdfb3d0b9398049f3cbc8e'}</td>\n",
       "      <td>Native</td>\n",
       "      <td>OneRepublic</td>\n",
       "      <td>[6, 0.7457039999999999, 0.11995499999999999, 1...</td>\n",
       "      <td>[energetic]</td>\n",
       "      <td>[2012]</td>\n",
       "      <td>[pop]</td>\n",
       "      <td>lately i ve been i ve been losing sleep dreami...</td>\n",
       "      <td>[happy]</td>\n",
       "      <td>Counting Stars</td>\n",
       "      <td>energetic</td>\n",
       "      <td>http://images.musicnet.com/albums/081/851/887/...</td>\n",
       "      <td>5839.0</td>\n",
       "      <td>[energy boost]</td>\n",
       "      <td>hT_nvWreIhg</td>\n",
       "      <td>1020297206</td>\n",
       "    </tr>\n",
       "    <tr>\n",
       "      <th>2</th>\n",
       "      <td>{'$oid': '52fdfb420b9398049f3d3ea5'}</td>\n",
       "      <td>Party Rock Anthem</td>\n",
       "      <td>LMFAO</td>\n",
       "      <td>[5, 0.709932, 0.231455, 130.03, 0.121740999999...</td>\n",
       "      <td>[energetic, energetic, energetic, energetic]</td>\n",
       "      <td>[]</td>\n",
       "      <td>[]</td>\n",
       "      <td>party rock yeah woo let s go party rock is in ...</td>\n",
       "      <td>[happy, celebratory, rowdy]</td>\n",
       "      <td>Party Rock Anthem</td>\n",
       "      <td>housework</td>\n",
       "      <td>http://images.musicnet.com/albums/049/414/127/...</td>\n",
       "      <td>52379.0</td>\n",
       "      <td>[energy boost, pleasing a crowd, housework, dr...</td>\n",
       "      <td>KQ6zr6kCPj8</td>\n",
       "      <td>971128436</td>\n",
       "    </tr>\n",
       "    <tr>\n",
       "      <th>3</th>\n",
       "      <td>{'$oid': '52fdfb410b9398049f3d1eac'}</td>\n",
       "      <td>Gentleman</td>\n",
       "      <td>PSY</td>\n",
       "      <td>[3, 0.705822, 0.053292, 126.009, 0.126016, 0.0...</td>\n",
       "      <td>[party, party, party, party, party, party]</td>\n",
       "      <td>[2010s]</td>\n",
       "      <td>[dance]</td>\n",
       "      <td>alagamun lan weh wakun heya hanun gon alagamun...</td>\n",
       "      <td>[happy, energetic, celebratory]</td>\n",
       "      <td>Gentleman</td>\n",
       "      <td>energetic</td>\n",
       "      <td>http://images.musicnet.com/albums/082/950/461/...</td>\n",
       "      <td>12353.0</td>\n",
       "      <td>[driving in the left lane, energy boost, girls...</td>\n",
       "      <td>ASO_zypdnsQ</td>\n",
       "      <td>892096527</td>\n",
       "    </tr>\n",
       "    <tr>\n",
       "      <th>4</th>\n",
       "      <td>{'$oid': '52fdfb400b9398049f3d0b19'}</td>\n",
       "      <td>On The Floor</td>\n",
       "      <td>Jennifer Lopez</td>\n",
       "      <td>[3, 0.741757, 0.07277399999999999, 129.985, 0....</td>\n",
       "      <td>[party, party]</td>\n",
       "      <td>[2000s]</td>\n",
       "      <td>[reggaeton]</td>\n",
       "      <td>j lo the other side out my mine it s a new gen...</td>\n",
       "      <td>[energetic]</td>\n",
       "      <td>On The Floor</td>\n",
       "      <td>work out</td>\n",
       "      <td>http://images.musicnet.com/albums/050/131/765/...</td>\n",
       "      <td>29502.0</td>\n",
       "      <td>[working out: cardio, dance party: sweaty]</td>\n",
       "      <td>t4H_Zoh7G5A</td>\n",
       "      <td>873285189</td>\n",
       "    </tr>\n",
       "  </tbody>\n",
       "</table>\n",
       "</div>"
      ],
      "text/plain": [
       "                                    _id                  album  \\\n",
       "0  {'$oid': '52fdfb440b9398049f3d7a8c'}  Gangnam Style (강남스타일)   \n",
       "1  {'$oid': '52fdfb3d0b9398049f3cbc8e'}                 Native   \n",
       "2  {'$oid': '52fdfb420b9398049f3d3ea5'}      Party Rock Anthem   \n",
       "3  {'$oid': '52fdfb410b9398049f3d1eac'}              Gentleman   \n",
       "4  {'$oid': '52fdfb400b9398049f3d0b19'}           On The Floor   \n",
       "\n",
       "           artist                                     audio_features  \\\n",
       "0             PSY  [11, 0.912744, 0.083704, 132.069, 0.293137, 0....   \n",
       "1     OneRepublic  [6, 0.7457039999999999, 0.11995499999999999, 1...   \n",
       "2           LMFAO  [5, 0.709932, 0.231455, 130.03, 0.121740999999...   \n",
       "3             PSY  [3, 0.705822, 0.053292, 126.009, 0.126016, 0.0...   \n",
       "4  Jennifer Lopez  [3, 0.741757, 0.07277399999999999, 129.985, 0....   \n",
       "\n",
       "                                        context  decades       genres  \\\n",
       "0                                    [work out]       []        [pop]   \n",
       "1                                   [energetic]   [2012]        [pop]   \n",
       "2  [energetic, energetic, energetic, energetic]       []           []   \n",
       "3    [party, party, party, party, party, party]  [2010s]      [dance]   \n",
       "4                                [party, party]  [2000s]  [reggaeton]   \n",
       "\n",
       "                                     lyrics_features  \\\n",
       "0  oppa gangnam style gangnam style najeneun ttas...   \n",
       "1  lately i ve been i ve been losing sleep dreami...   \n",
       "2  party rock yeah woo let s go party rock is in ...   \n",
       "3  alagamun lan weh wakun heya hanun gon alagamun...   \n",
       "4  j lo the other side out my mine it s a new gen...   \n",
       "\n",
       "                             moods                   name new_context  \\\n",
       "0        [energetic, motivational]  Gangnam Style (강남스타일)    work out   \n",
       "1                          [happy]         Counting Stars   energetic   \n",
       "2      [happy, celebratory, rowdy]      Party Rock Anthem   housework   \n",
       "3  [happy, energetic, celebratory]              Gentleman   energetic   \n",
       "4                      [energetic]           On The Floor    work out   \n",
       "\n",
       "                                             picture  recording_id  \\\n",
       "0  http://images.musicnet.com/albums/073/463/405/...       50232.0   \n",
       "1  http://images.musicnet.com/albums/081/851/887/...        5839.0   \n",
       "2  http://images.musicnet.com/albums/049/414/127/...       52379.0   \n",
       "3  http://images.musicnet.com/albums/082/950/461/...       12353.0   \n",
       "4  http://images.musicnet.com/albums/050/131/765/...       29502.0   \n",
       "\n",
       "                                         sub_context        yt_id    yt_views  \n",
       "0                              [working out: cardio]  9bZkp7q19f0  2450112089  \n",
       "1                                     [energy boost]  hT_nvWreIhg  1020297206  \n",
       "2  [energy boost, pleasing a crowd, housework, dr...  KQ6zr6kCPj8   971128436  \n",
       "3  [driving in the left lane, energy boost, girls...  ASO_zypdnsQ   892096527  \n",
       "4         [working out: cardio, dance party: sweaty]  t4H_Zoh7G5A   873285189  "
      ]
     },
     "execution_count": 233,
     "metadata": {},
     "output_type": "execute_result"
    }
   ],
   "source": [
    "df_master_song['lyrics_features'] = df_master_song.loc[:, 'lyrics_features'].str.join(' ')\n",
    "df_master_song.head()"
   ]
  },
  {
   "cell_type": "code",
   "execution_count": 234,
   "metadata": {},
   "outputs": [],
   "source": [
    "from string import punctuation\n",
    "from sklearn.feature_extraction.stop_words import ENGLISH_STOP_WORDS\n",
    "from nltk.stem.snowball import SnowballStemmer\n",
    "\n",
    "def clean_text(text):\n",
    "    processing_text = text.lower()\n",
    "    translate_func = str.maketrans('', '', punctuation)\n",
    "    processing_text = processing_text.translate(translate_func)\n",
    "    stemmer = SnowballStemmer('english')\n",
    "    clean_token = [ stemmer.stem(word) for word in processing_text.split() if word not in ENGLISH_STOP_WORDS ]\n",
    "    processing_text = ' '.join(clean_token)\n",
    "    return processing_text\n"
   ]
  },
  {
   "cell_type": "code",
   "execution_count": 235,
   "metadata": {},
   "outputs": [],
   "source": [
    "from nltk.stem.wordnet import WordNetLemmatizer\n",
    "def clean_text_lemma(text):\n",
    "    processing_text = text.lower()\n",
    "    translate_func = str.maketrans('', '', punctuation)\n",
    "    processing_text = processing_text.translate(translate_func)\n",
    "    lemma = WordNetLemmatizer()\n",
    "    clean_token = [ lemma.lemmatize(word) for word in processing_text.split() if word not in ENGLISH_STOP_WORDS ]\n",
    "    processing_text = ' '.join(clean_token)\n",
    "    return processing_text"
   ]
  },
  {
   "cell_type": "code",
   "execution_count": 236,
   "metadata": {},
   "outputs": [],
   "source": [
    "df_master_song['lyrics_features_lemma'] = df_master_song.loc[:,'lyrics_features'].apply(clean_text_lemma)\n",
    "df_master_song['lyrics_features'] = df_master_song.loc[:,'lyrics_features'].apply(clean_text)"
   ]
  },
  {
   "cell_type": "markdown",
   "metadata": {},
   "source": [
    "## Filter mood for bow and tfidf"
   ]
  },
  {
   "cell_type": "code",
   "execution_count": 237,
   "metadata": {},
   "outputs": [
    {
     "data": {
      "text/html": [
       "<div>\n",
       "<style scoped>\n",
       "    .dataframe tbody tr th:only-of-type {\n",
       "        vertical-align: middle;\n",
       "    }\n",
       "\n",
       "    .dataframe tbody tr th {\n",
       "        vertical-align: top;\n",
       "    }\n",
       "\n",
       "    .dataframe thead th {\n",
       "        text-align: right;\n",
       "    }\n",
       "</style>\n",
       "<table border=\"1\" class=\"dataframe\">\n",
       "  <thead>\n",
       "    <tr style=\"text-align: right;\">\n",
       "      <th></th>\n",
       "      <th>aggressive</th>\n",
       "      <th>angsty</th>\n",
       "      <th>atmospheric</th>\n",
       "      <th>campy</th>\n",
       "      <th>celebratory</th>\n",
       "      <th>classy</th>\n",
       "      <th>cocky</th>\n",
       "      <th>cold</th>\n",
       "      <th>earthy</th>\n",
       "      <th>energetic</th>\n",
       "      <th>...</th>\n",
       "      <th>seductive</th>\n",
       "      <th>sexual</th>\n",
       "      <th>soothing</th>\n",
       "      <th>spacey</th>\n",
       "      <th>sprightly</th>\n",
       "      <th>sweet</th>\n",
       "      <th>trashy</th>\n",
       "      <th>trippy</th>\n",
       "      <th>visceral</th>\n",
       "      <th>warm</th>\n",
       "    </tr>\n",
       "  </thead>\n",
       "  <tbody>\n",
       "    <tr>\n",
       "      <th>0</th>\n",
       "      <td>0</td>\n",
       "      <td>0</td>\n",
       "      <td>0</td>\n",
       "      <td>0</td>\n",
       "      <td>0</td>\n",
       "      <td>0</td>\n",
       "      <td>0</td>\n",
       "      <td>0</td>\n",
       "      <td>0</td>\n",
       "      <td>1</td>\n",
       "      <td>...</td>\n",
       "      <td>0</td>\n",
       "      <td>0</td>\n",
       "      <td>0</td>\n",
       "      <td>0</td>\n",
       "      <td>0</td>\n",
       "      <td>0</td>\n",
       "      <td>0</td>\n",
       "      <td>0</td>\n",
       "      <td>0</td>\n",
       "      <td>0</td>\n",
       "    </tr>\n",
       "    <tr>\n",
       "      <th>1</th>\n",
       "      <td>0</td>\n",
       "      <td>0</td>\n",
       "      <td>0</td>\n",
       "      <td>0</td>\n",
       "      <td>0</td>\n",
       "      <td>0</td>\n",
       "      <td>0</td>\n",
       "      <td>0</td>\n",
       "      <td>0</td>\n",
       "      <td>0</td>\n",
       "      <td>...</td>\n",
       "      <td>0</td>\n",
       "      <td>0</td>\n",
       "      <td>0</td>\n",
       "      <td>0</td>\n",
       "      <td>0</td>\n",
       "      <td>0</td>\n",
       "      <td>0</td>\n",
       "      <td>0</td>\n",
       "      <td>0</td>\n",
       "      <td>0</td>\n",
       "    </tr>\n",
       "    <tr>\n",
       "      <th>2</th>\n",
       "      <td>0</td>\n",
       "      <td>0</td>\n",
       "      <td>0</td>\n",
       "      <td>0</td>\n",
       "      <td>1</td>\n",
       "      <td>0</td>\n",
       "      <td>0</td>\n",
       "      <td>0</td>\n",
       "      <td>0</td>\n",
       "      <td>0</td>\n",
       "      <td>...</td>\n",
       "      <td>0</td>\n",
       "      <td>0</td>\n",
       "      <td>0</td>\n",
       "      <td>0</td>\n",
       "      <td>0</td>\n",
       "      <td>0</td>\n",
       "      <td>0</td>\n",
       "      <td>0</td>\n",
       "      <td>0</td>\n",
       "      <td>0</td>\n",
       "    </tr>\n",
       "    <tr>\n",
       "      <th>3</th>\n",
       "      <td>0</td>\n",
       "      <td>0</td>\n",
       "      <td>0</td>\n",
       "      <td>0</td>\n",
       "      <td>1</td>\n",
       "      <td>0</td>\n",
       "      <td>0</td>\n",
       "      <td>0</td>\n",
       "      <td>0</td>\n",
       "      <td>1</td>\n",
       "      <td>...</td>\n",
       "      <td>0</td>\n",
       "      <td>0</td>\n",
       "      <td>0</td>\n",
       "      <td>0</td>\n",
       "      <td>0</td>\n",
       "      <td>0</td>\n",
       "      <td>0</td>\n",
       "      <td>0</td>\n",
       "      <td>0</td>\n",
       "      <td>0</td>\n",
       "    </tr>\n",
       "    <tr>\n",
       "      <th>4</th>\n",
       "      <td>0</td>\n",
       "      <td>0</td>\n",
       "      <td>0</td>\n",
       "      <td>0</td>\n",
       "      <td>0</td>\n",
       "      <td>0</td>\n",
       "      <td>0</td>\n",
       "      <td>0</td>\n",
       "      <td>0</td>\n",
       "      <td>1</td>\n",
       "      <td>...</td>\n",
       "      <td>0</td>\n",
       "      <td>0</td>\n",
       "      <td>0</td>\n",
       "      <td>0</td>\n",
       "      <td>0</td>\n",
       "      <td>0</td>\n",
       "      <td>0</td>\n",
       "      <td>0</td>\n",
       "      <td>0</td>\n",
       "      <td>0</td>\n",
       "    </tr>\n",
       "  </tbody>\n",
       "</table>\n",
       "<p>5 rows × 32 columns</p>\n",
       "</div>"
      ],
      "text/plain": [
       "   aggressive  angsty  atmospheric  campy  celebratory  classy  cocky  cold  \\\n",
       "0           0       0            0      0            0       0      0     0   \n",
       "1           0       0            0      0            0       0      0     0   \n",
       "2           0       0            0      0            1       0      0     0   \n",
       "3           0       0            0      0            1       0      0     0   \n",
       "4           0       0            0      0            0       0      0     0   \n",
       "\n",
       "   earthy  energetic  ...   seductive  sexual  soothing  spacey  sprightly  \\\n",
       "0       0          1  ...           0       0         0       0          0   \n",
       "1       0          0  ...           0       0         0       0          0   \n",
       "2       0          0  ...           0       0         0       0          0   \n",
       "3       0          1  ...           0       0         0       0          0   \n",
       "4       0          1  ...           0       0         0       0          0   \n",
       "\n",
       "   sweet  trashy  trippy  visceral  warm  \n",
       "0      0       0       0         0     0  \n",
       "1      0       0       0         0     0  \n",
       "2      0       0       0         0     0  \n",
       "3      0       0       0         0     0  \n",
       "4      0       0       0         0     0  \n",
       "\n",
       "[5 rows x 32 columns]"
      ]
     },
     "execution_count": 237,
     "metadata": {},
     "output_type": "execute_result"
    }
   ],
   "source": [
    "df_moods = df_master_song.loc[:, 'moods'].str.join(',').str.get_dummies(',')\n",
    "df_moods.head()"
   ]
  },
  {
   "cell_type": "code",
   "execution_count": 242,
   "metadata": {},
   "outputs": [
    {
     "data": {
      "text/plain": [
       "1    1757\n",
       "0    1249\n",
       "Name: target, dtype: int64"
      ]
     },
     "execution_count": 242,
     "metadata": {},
     "output_type": "execute_result"
    }
   ],
   "source": [
    "# base on df_moods to choose 2 kind of moods\n",
    "def select_moods(moods_1, moods_2):\n",
    "    selected_row_final = []\n",
    "    selected_row_1 = df_moods.loc[:, moods_1] == True\n",
    "    selected_row_2 = df_moods.loc[:, moods_2] == True\n",
    "    df_master_song_moods = pd.concat((df_master_song, df_moods), axis=1)\n",
    "\n",
    "    # Make sure we get row that happy xor sad that means no row both happy and sad\n",
    "    selected_row_final = (selected_row_1 != selected_row_2)\n",
    "    df_lyrics_features = df_master_song_moods.loc[selected_row_final, ['lyrics_features', 'lyrics_features_lemma', moods_1, moods_2]]\n",
    "    df_lyrics_features['target'] = df_lyrics_features.loc[:, moods_1]\n",
    "    return df_lyrics_features\n",
    "\n",
    "df_lyrics_features = select_moods('happy', 'sad')\n",
    "df_lyrics_features.target.value_counts()"
   ]
  },
  {
   "cell_type": "markdown",
   "metadata": {},
   "source": [
    "> Dataset a little bit unbalance"
   ]
  },
  {
   "cell_type": "code",
   "execution_count": 239,
   "metadata": {},
   "outputs": [
    {
     "data": {
      "text/plain": [
       "1    1249\n",
       "0    1249\n",
       "Name: target, dtype: int64"
      ]
     },
     "execution_count": 239,
     "metadata": {},
     "output_type": "execute_result"
    }
   ],
   "source": [
    "def balance_dataset(df):\n",
    "    min_features = min(df.target.value_counts())\n",
    "    new_df_1 = df.loc[df.loc[:, 'target'] == 1, :].sample(n=min_features)\n",
    "    new_df_2 = df.loc[df.loc[:, 'target'] == 0, :].sample(n=min_features)\n",
    "    new_df = pd.concat([new_df_1, new_df_2], axis = 0)\n",
    "    return new_df\n",
    "df_lyrics_features_bal = balance_dataset(df_lyrics_features)\n",
    "df_lyrics_features_bal.target.value_counts()"
   ]
  },
  {
   "cell_type": "markdown",
   "metadata": {},
   "source": [
    "## Bag of Words"
   ]
  },
  {
   "cell_type": "code",
   "execution_count": 65,
   "metadata": {},
   "outputs": [],
   "source": [
    "from sklearn.feature_extraction.text import CountVectorizer\n",
    "from sklearn.model_selection import train_test_split\n",
    "from sklearn.metrics import accuracy_score\n",
    "from sklearn.linear_model import LogisticRegression"
   ]
  },
  {
   "cell_type": "code",
   "execution_count": null,
   "metadata": {},
   "outputs": [],
   "source": [
    "def bow_accuracy(df, ngrams, column='lyrics_features'):\n",
    "    print(ngrams)\n",
    "    bow = CountVectorizer(ngram_range=ngrams)\n",
    "    lyrics_features_bow = bow.fit_transform(df.loc[:, column])\n",
    "    X_train, X_test, y_train, y_test = train_test_split(lyrics_features_bow, df.loc[:, 'target'], test_size=0.3, random_state = 101)\n",
    "    lr = LogisticRegression().fit(X_train, y_train)\n",
    "    y_predict = lr.predict(X_test)\n",
    "    return accuracy_score(y_test, y_predict)\n",
    "\n",
    "ngrams = range(1, 10)\n",
    "bow_acc = [ bow_accuracy(df_lyrics_features, (1, ngram)) for ngram in ngrams ]\n",
    "print(bow_acc)"
   ]
  },
  {
   "cell_type": "code",
   "execution_count": 251,
   "metadata": {},
   "outputs": [
    {
     "name": "stdout",
     "output_type": "stream",
     "text": [
      "(1, 1)\n",
      "(1, 2)\n",
      "(1, 3)\n",
      "(1, 4)\n",
      "(1, 5)\n",
      "(1, 6)\n",
      "(1, 7)\n",
      "(1, 8)\n",
      "(1, 9)\n"
     ]
    }
   ],
   "source": [
    "ngrams = range(1, 10)\n",
    "bow_acc = [ bow_accuracy(df_lyrics_features, (1, ngram), 'lyrics_features_lemma') for ngram in ngrams ]"
   ]
  },
  {
   "cell_type": "code",
   "execution_count": 252,
   "metadata": {},
   "outputs": [
    {
     "data": {
      "image/png": "[encoded data removed]",
      "text/plain": [
       "<Figure size 432x288 with 1 Axes>"
      ]
     },
     "metadata": {},
     "output_type": "display_data"
    }
   ],
   "source": [
    "f, ax = plt.subplots()\n",
    "ax.plot(ngrams, bow_acc, 'r--', label='accuracy')\n",
    "ax.set_title('accuracy vs n-grams')\n",
    "plt.xlabel('n-grams')\n",
    "plt.ylabel('accuracy')\n",
    "plt.show()\n"
   ]
  },
  {
   "cell_type": "code",
   "execution_count": 123,
   "metadata": {},
   "outputs": [
    {
     "name": "stdout",
     "output_type": "stream",
     "text": [
      "(1, 1)\n",
      "(1, 2)\n",
      "(1, 3)\n",
      "(1, 4)\n",
      "(1, 5)\n",
      "(1, 6)\n",
      "(1, 7)\n",
      "(1, 8)\n",
      "(1, 9)\n",
      "[0.6613333333333333, 0.7026666666666667, 0.7053333333333334, 0.6986666666666667, 0.7053333333333334, 0.7013333333333334, 0.708, 0.704, 0.7026666666666667]\n"
     ]
    },
    {
     "data": {
      "image/png": "[encoded data removed]",
      "text/plain": [
       "<Figure size 432x288 with 1 Axes>"
      ]
     },
     "metadata": {},
     "output_type": "display_data"
    }
   ],
   "source": [
    "ngrams = range(1, 10)\n",
    "bow_acc_bal = [ bow_accuracy(df_lyrics_features_bal, (1, ngram)) for ngram in ngrams]\n",
    "print(bow_acc_bal)"
   ]
  },
  {
   "cell_type": "code",
   "execution_count": 125,
   "metadata": {},
   "outputs": [
    {
     "data": {
      "image/png": "[encoded data removed]",
      "text/plain": [
       "<Figure size 432x288 with 1 Axes>"
      ]
     },
     "metadata": {},
     "output_type": "display_data"
    }
   ],
   "source": [
    "f, ax = plt.subplots()\n",
    "ax.plot(ngrams, bow_acc_bal, 'r--', label='balance dataset')\n",
    "ax.plot(ngrams, bow_acc, 'g--', label='unbalance dataset')\n",
    "ax.set_title('accuracy vs n-grams')\n",
    "plt.xlabel('n-grams')\n",
    "plt.ylabel('accuracy')\n",
    "plt.legend(bbox_to_anchor=(1.05, 1), loc=2, borderaxespad=0.)\n",
    "plt.show()"
   ]
  },
  {
   "cell_type": "markdown",
   "metadata": {},
   "source": [
    "## TF-IDF"
   ]
  },
  {
   "cell_type": "code",
   "execution_count": 68,
   "metadata": {},
   "outputs": [],
   "source": [
    "from sklearn.feature_extraction.text import TfidfVectorizer\n",
    "tfidf_1 = TfidfVectorizer()"
   ]
  },
  {
   "cell_type": "code",
   "execution_count": 69,
   "metadata": {},
   "outputs": [],
   "source": [
    "lyrics_features_tfidf_1 = tfidf_1.fit_transform(df_lyrics_features.loc[:, 'lyrics_features'])"
   ]
  },
  {
   "cell_type": "code",
   "execution_count": 126,
   "metadata": {},
   "outputs": [
    {
     "data": {
      "text/plain": [
       "(3006, 18837)"
      ]
     },
     "execution_count": 126,
     "metadata": {},
     "output_type": "execute_result"
    }
   ],
   "source": [
    "lyrics_features_tfidf_1.shape"
   ]
  },
  {
   "cell_type": "code",
   "execution_count": 140,
   "metadata": {},
   "outputs": [
    {
     "name": "stdout",
     "output_type": "stream",
     "text": [
      "[0.707641196013289, 0.7109634551495017, 0.6810631229235881, 0.6179401993355482]\n",
      "[0.72, 0.708, 0.72, 0.728]\n"
     ]
    }
   ],
   "source": [
    "def tfidf_accuracy(df, ngrams):\n",
    "    tfidf = TfidfVectorizer(ngram_range=ngrams).fit_transform(df.loc[:, 'lyrics_features'])\n",
    "    X_train, X_test, y_train, y_test = train_test_split(tfidf, df.loc[:, 'target'], test_size=0.1, random_state=101)\n",
    "    lr = LogisticRegression().fit(X_train, y_train)\n",
    "    return accuracy_score(y_test, lr.predict(X_test))\n",
    "    \n",
    "ngrams = [ (1, ngram) for ngram in range(1, 5) ]\n",
    "tfidf_accuracy_unbal = [ tfidf_accuracy(df_lyrics_features    , ngram) for ngram in ngrams ]\n",
    "tfidf_accuracy_bal   = [ tfidf_accuracy(df_lyrics_features_bal, ngram) for ngram in ngrams ]\n",
    "print(tfidf_accuracy_unbal)\n",
    "print(tfidf_accuracy_bal)"
   ]
  },
  {
   "cell_type": "code",
   "execution_count": 141,
   "metadata": {},
   "outputs": [
    {
     "data": {
      "image/png": "[encoded data removed]",
      "text/plain": [
       "<Figure size 432x288 with 1 Axes>"
      ]
     },
     "metadata": {},
     "output_type": "display_data"
    }
   ],
   "source": [
    "f, ax = plt.subplots()\n",
    "ax.plot(list(zip(*ngrams))[1], tfidf_accuracy_bal, 'r--', label='balance dataset')\n",
    "ax.plot(list(zip(*ngrams))[1], tfidf_accuracy_unbal, 'g--', label='unbalance dataset')\n",
    "ax.set_title('Tf-Idf')\n",
    "plt.xlabel('n-grams')\n",
    "plt.ylabel('accuracy')\n",
    "plt.legend(bbox_to_anchor=(1.05, 1), loc=2, borderaxespad=0.)\n",
    "plt.show()"
   ]
  },
  {
   "cell_type": "markdown",
   "metadata": {},
   "source": [
    "## Doc2Vec"
   ]
  },
  {
   "cell_type": "code",
   "execution_count": 142,
   "metadata": {},
   "outputs": [],
   "source": [
    "from gensim.models import Doc2Vec"
   ]
  },
  {
   "cell_type": "code",
   "execution_count": 143,
   "metadata": {},
   "outputs": [],
   "source": [
    "%run Doc2VecHelperFunctions.ipynb"
   ]
  },
  {
   "cell_type": "code",
   "execution_count": 144,
   "metadata": {},
   "outputs": [],
   "source": [
    "convert_lyrics_to_d2v(df_master_song.loc[:, 'lyrics_features'].tolist())"
   ]
  },
  {
   "cell_type": "code",
   "execution_count": 148,
   "metadata": {},
   "outputs": [],
   "source": [
    "d2v_model = Doc2Vec.load('song_lyrics.d2v')"
   ]
  },
  {
   "cell_type": "markdown",
   "metadata": {},
   "source": [
    "## train test set"
   ]
  },
  {
   "cell_type": "code",
   "execution_count": 200,
   "metadata": {},
   "outputs": [],
   "source": [
    "df_lyrics_features['d2v'] = df_lyrics_features.index.map(lambda x: d2v_model[x])\n",
    "df_lyrics_features_bal['d2v'] = df_lyrics_features_bal.index.map(lambda x: d2v_model[x])"
   ]
  },
  {
   "cell_type": "code",
   "execution_count": 201,
   "metadata": {},
   "outputs": [
    {
     "data": {
      "text/plain": [
       "0.712"
      ]
     },
     "execution_count": 201,
     "metadata": {},
     "output_type": "execute_result"
    }
   ],
   "source": [
    "def d2v_accuracy(df):\n",
    "    X_train, X_test, y_train, y_test = train_test_split(df.loc[:, 'd2v'].tolist(), df.loc[:, 'target'], test_size=0.1, random_state=101)\n",
    "    lr = LogisticRegression().fit(X_train, y_train)\n",
    "    return accuracy_score(y_test, lr.predict(X_test))\n",
    "d2v_accuracy(df_lyrics_features)\n",
    "d2v_accuracy(df_lyrics_features_bal)"
   ]
  },
  {
   "cell_type": "code",
   "execution_count": 244,
   "metadata": {},
   "outputs": [],
   "source": [
    "from langdetect import detect\n",
    "# df_lyrics_features_en = df_lyrics_features.loc[df_lyrics_features.loc[:, 'lyrics_features']]\n",
    "df_lyrics_features['lang'] = df_lyrics_features.loc[:, 'lyrics_features'].apply(detect)\n",
    "df_lyrics_features_bal['lang'] = df_lyrics_features_bal.loc[:, 'lyrics_features'].apply(detect)"
   ]
  },
  {
   "cell_type": "code",
   "execution_count": 246,
   "metadata": {},
   "outputs": [],
   "source": [
    "df_lyrics_features_en = df_lyrics_features.loc[df_lyrics_features.loc[:, 'lang'] == 'en']\n",
    "df_lyrics_features_bal_en = df_lyrics_features_bal.loc[df_lyrics_features_bal.loc[:, 'lang'] == 'en']"
   ]
  },
  {
   "cell_type": "code",
   "execution_count": 245,
   "metadata": {},
   "outputs": [
    {
     "data": {
      "text/plain": [
       "0.7168141592920354"
      ]
     },
     "execution_count": 245,
     "metadata": {},
     "output_type": "execute_result"
    }
   ],
   "source": [
    "d2v_accuracy(df_lyrics_features_en)\n",
    "d2v_accuracy(df_lyrics_features_bal_en)"
   ]
  },
  {
   "cell_type": "code",
   "execution_count": 222,
   "metadata": {},
   "outputs": [
    {
     "name": "stdout",
     "output_type": "stream",
     "text": [
      "(1, 1)\n",
      "(1, 2)\n",
      "(1, 3)\n",
      "(1, 4)\n",
      "(1, 5)\n",
      "(1, 6)\n",
      "(1, 7)\n",
      "(1, 8)\n",
      "(1, 9)\n",
      "[0.6867321867321867, 0.7076167076167076, 0.7014742014742015, 0.6977886977886978, 0.6977886977886978, 0.6916461916461917, 0.6904176904176904, 0.6916461916461917, 0.6904176904176904]\n"
     ]
    }
   ],
   "source": [
    "ngrams = range(1, 10)\n",
    "bow_acc = [ bow_accuracy(df_lyrics_features_en, (1, ngram)) for ngram in ngrams ]\n",
    "print(bow_acc)"
   ]
  },
  {
   "cell_type": "code",
   "execution_count": 247,
   "metadata": {},
   "outputs": [
    {
     "data": {
      "text/plain": [
       "Index(['lyrics_features', 'lyrics_features_lemma', 'happy', 'sad', 'target',\n",
       "       'lang'],\n",
       "      dtype='object')"
      ]
     },
     "execution_count": 247,
     "metadata": {},
     "output_type": "execute_result"
    }
   ],
   "source": [
    "df_lyrics_features_en.columns"
   ]
  },
  {
   "cell_type": "markdown",
   "metadata": {},
   "source": [
    "## Model Selection"
   ]
  },
  {
   "cell_type": "code",
   "execution_count": 254,
   "metadata": {},
   "outputs": [],
   "source": [
    "from sklearn.model_selection import GridSearchCV"
   ]
  },
  {
   "cell_type": "code",
   "execution_count": 256,
   "metadata": {},
   "outputs": [],
   "source": [
    "bow_4_grams = CountVectorizer(ngram_range=(1, 4))\n",
    "lyrics_features_bow_4 = bow_4_grams.fit_transform(df_lyrics_features.loc[:, 'lyrics_features'])\n",
    "X_train, X_test, y_train, y_test = train_test_split(lyrics_features_bow_4, df_lyrics_features.loc[:, 'target'], test_size=0.3, random_state = 101)"
   ]
  },
  {
   "cell_type": "code",
   "execution_count": null,
   "metadata": {},
   "outputs": [
    {
     "name": "stdout",
     "output_type": "stream",
     "text": [
      "Fitting 5 folds for each of 24 candidates, totalling 120 fits\n"
     ]
    },
    {
     "name": "stderr",
     "output_type": "stream",
     "text": [
      "/home/dks/anaconda3/lib/python3.5/site-packages/sklearn/linear_model/sag.py:326: ConvergenceWarning: The max_iter was reached which means the coef_ did not converge\n",
      "  \"the coef_ did not converge\", ConvergenceWarning)\n",
      "/home/dks/anaconda3/lib/python3.5/site-packages/sklearn/linear_model/sag.py:326: ConvergenceWarning: The max_iter was reached which means the coef_ did not converge\n",
      "  \"the coef_ did not converge\", ConvergenceWarning)\n",
      "/home/dks/anaconda3/lib/python3.5/site-packages/sklearn/linear_model/sag.py:326: ConvergenceWarning: The max_iter was reached which means the coef_ did not converge\n",
      "  \"the coef_ did not converge\", ConvergenceWarning)\n",
      "/home/dks/anaconda3/lib/python3.5/site-packages/sklearn/linear_model/sag.py:326: ConvergenceWarning: The max_iter was reached which means the coef_ did not converge\n",
      "  \"the coef_ did not converge\", ConvergenceWarning)\n",
      "/home/dks/anaconda3/lib/python3.5/site-packages/sklearn/linear_model/sag.py:326: ConvergenceWarning: The max_iter was reached which means the coef_ did not converge\n",
      "  \"the coef_ did not converge\", ConvergenceWarning)\n",
      "/home/dks/anaconda3/lib/python3.5/site-packages/sklearn/linear_model/sag.py:326: ConvergenceWarning: The max_iter was reached which means the coef_ did not converge\n",
      "  \"the coef_ did not converge\", ConvergenceWarning)\n",
      "/home/dks/anaconda3/lib/python3.5/site-packages/sklearn/linear_model/sag.py:326: ConvergenceWarning: The max_iter was reached which means the coef_ did not converge\n",
      "  \"the coef_ did not converge\", ConvergenceWarning)\n",
      "/home/dks/anaconda3/lib/python3.5/site-packages/sklearn/linear_model/sag.py:326: ConvergenceWarning: The max_iter was reached which means the coef_ did not converge\n",
      "  \"the coef_ did not converge\", ConvergenceWarning)\n",
      "/home/dks/anaconda3/lib/python3.5/site-packages/sklearn/linear_model/sag.py:326: ConvergenceWarning: The max_iter was reached which means the coef_ did not converge\n",
      "  \"the coef_ did not converge\", ConvergenceWarning)\n",
      "/home/dks/anaconda3/lib/python3.5/site-packages/sklearn/linear_model/sag.py:326: ConvergenceWarning: The max_iter was reached which means the coef_ did not converge\n",
      "  \"the coef_ did not converge\", ConvergenceWarning)\n",
      "/home/dks/anaconda3/lib/python3.5/site-packages/sklearn/linear_model/sag.py:326: ConvergenceWarning: The max_iter was reached which means the coef_ did not converge\n",
      "  \"the coef_ did not converge\", ConvergenceWarning)\n",
      "/home/dks/anaconda3/lib/python3.5/site-packages/sklearn/linear_model/sag.py:326: ConvergenceWarning: The max_iter was reached which means the coef_ did not converge\n",
      "  \"the coef_ did not converge\", ConvergenceWarning)\n",
      "/home/dks/anaconda3/lib/python3.5/site-packages/sklearn/linear_model/sag.py:326: ConvergenceWarning: The max_iter was reached which means the coef_ did not converge\n",
      "  \"the coef_ did not converge\", ConvergenceWarning)\n",
      "/home/dks/anaconda3/lib/python3.5/site-packages/sklearn/linear_model/sag.py:326: ConvergenceWarning: The max_iter was reached which means the coef_ did not converge\n",
      "  \"the coef_ did not converge\", ConvergenceWarning)\n",
      "/home/dks/anaconda3/lib/python3.5/site-packages/sklearn/linear_model/sag.py:326: ConvergenceWarning: The max_iter was reached which means the coef_ did not converge\n",
      "  \"the coef_ did not converge\", ConvergenceWarning)\n",
      "/home/dks/anaconda3/lib/python3.5/site-packages/sklearn/linear_model/sag.py:326: ConvergenceWarning: The max_iter was reached which means the coef_ did not converge\n",
      "  \"the coef_ did not converge\", ConvergenceWarning)\n",
      "/home/dks/anaconda3/lib/python3.5/site-packages/sklearn/linear_model/sag.py:326: ConvergenceWarning: The max_iter was reached which means the coef_ did not converge\n",
      "  \"the coef_ did not converge\", ConvergenceWarning)\n",
      "/home/dks/anaconda3/lib/python3.5/site-packages/sklearn/linear_model/sag.py:326: ConvergenceWarning: The max_iter was reached which means the coef_ did not converge\n",
      "  \"the coef_ did not converge\", ConvergenceWarning)\n",
      "[Parallel(n_jobs=8)]: Done  34 tasks      | elapsed:  4.8min\n"
     ]
    }
   ],
   "source": [
    "param_grid = {\n",
    "    'C' : [0.1, 1, 10],\n",
    "    'solver': ['newton-cg', 'sag', 'saga', 'lbfgs'],\n",
    "    'multi_class': ['ovr', 'multinomial'],\n",
    "    'max_iter':[1000]\n",
    "}\n",
    "lr_gs_model = GridSearchCV(LogisticRegression(), param_grid=param_grid, refit=False, cv=5, n_jobs=8, verbose=1)\n",
    "lr_gs_model.fit(X_train, y_train)"
   ]
  },
  {
   "cell_type": "code",
   "execution_count": null,
   "metadata": {},
   "outputs": [],
   "source": []
  }
 ],
 "metadata": {
  "kernelspec": {
   "display_name": "Python [conda env:anaconda3]",
   "language": "python",
   "name": "conda-env-anaconda3-py"
  },
  "language_info": {
   "codemirror_mode": {
    "name": "ipython",
    "version": 3
   },
   "file_extension": ".py",
   "mimetype": "text/x-python",
   "name": "python",
   "nbconvert_exporter": "python",
   "pygments_lexer": "ipython3",
   "version": "3.5.5"
  }
 },
 "nbformat": 4,
 "nbformat_minor": 2
}
