{
 "cells": [
  {
   "cell_type": "markdown",
   "metadata": {},
   "source": [
    "# Spotify"
   ]
  },
  {
   "cell_type": "code",
   "execution_count": 6,
   "metadata": {},
   "outputs": [],
   "source": [
    "import spotipy\n",
    "import spotipy.util as util\n",
    "import time"
   ]
  },
  {
   "cell_type": "code",
   "execution_count": 3,
   "metadata": {},
   "outputs": [
    {
     "name": "stdout",
     "output_type": "stream",
     "text": [
      "\n",
      "\n",
      "            User authentication requires interaction with your\n",
      "            web browser. Once you enter your credentials and\n",
      "            give authorization, you will be redirected to\n",
      "            a url.  Paste that url you were directed to to\n",
      "            complete the authorization.\n",
      "\n",
      "        \n",
      "Opened https://accounts.spotify.com/authorize?client_id=4b768c8326a54a128952210a82d48000&response_type=code&redirect_uri=http%3A%2F%2Flocalhost%2F in your browser\n",
      "\n",
      "\n",
      "\n",
      "\n"
     ]
    }
   ],
   "source": [
    "# token = util.prompt_for_user_token('qe4p3c81zh1v4w53hnyukuh87',\n",
    "#                                   client_id='4b768c8326a54a128952210a82d48000',\n",
    "#                                   client_secret='a6834f08003649e59af4380ee78e756e',\n",
    "#                                   redirect_uri='http://localhost:8888/callback/')\n",
    "\n",
    "import os\n",
    "from json.decoder import JSONDecodeError\n",
    "username = 'qe4p3c81zh1v4w53hnyukuh87'\n",
    "client_id = '4b768c8326a54a128952210a82d48000'\n",
    "client_secret = 'a6834f08003649e59af4380ee78e756e'\n",
    "redirect_uri = 'http://localhost/'\n",
    "# scope = 'dks_scope'\n",
    "try:\n",
    "    token = util.prompt_for_user_token(username, None, client_id, client_secret, redirect_uri)\n",
    "except (AttributeError, JSONDecodeError):\n",
    "    os.remove(f\".cache-{username}\")\n",
    "    token = util.prompt_for_user_token(username, None, client_id, client_secret, redirect_uri)"
   ]
  },
  {
   "cell_type": "code",
   "execution_count": 4,
   "metadata": {},
   "outputs": [],
   "source": [
    "spotify = spotipy.Spotify(auth=token)"
   ]
  },
  {
   "cell_type": "code",
   "execution_count": 9,
   "metadata": {},
   "outputs": [],
   "source": [
    "# get categories\n",
    "def get_categories():\n",
    "    category_ids = []\n",
    "    for i in spotify.categories(limit = 50)['categories']['items']:\n",
    "        category_ids.append(i.get('id'))\n",
    "    return category_ids\n",
    "\n",
    "# get playlists from list of categories\n",
    "def get_playlists(categories):\n",
    "    playlist_ids = []\n",
    "    for i in categories:\n",
    "        for j in spotify.category_playlists(i, limit = 50)['playlists']['items']:\n",
    "            playlist_ids.append(j.get('id'))\n",
    "    return playlist_ids\n",
    "\n",
    "# get song ids from list of playlist ids\n",
    "def get_songs(playlists):\n",
    "    song_ids = []\n",
    "    for i in playlists:\n",
    "        try:\n",
    "            for j in spotify.user_playlist('spotify', i)['tracks']['items']:\n",
    "                song_ids.append(j['track']['id'])\n",
    "        except:\n",
    "            pass\n",
    "        time.sleep(.1)\n",
    "    return song_ids\n",
    "\n",
    "categories = get_categories()\n",
    "playlists = get_playlists(categories)\n",
    "songs = get_songs(playlists)"
   ]
  },
  {
   "cell_type": "code",
   "execution_count": 11,
   "metadata": {},
   "outputs": [],
   "source": [
    "import pickle"
   ]
  },
  {
   "cell_type": "code",
   "execution_count": 12,
   "metadata": {},
   "outputs": [],
   "source": [
    "pickle.dump(categories, open('categories_spotify.pkl', 'wb'))\n",
    "pickle.dump(playlists, open('playlists_spotify.pkl', 'wb'))\n",
    "pickle.dump(songs, open('songs_spotify.pkl', 'wb'))"
   ]
  },
  {
   "cell_type": "code",
   "execution_count": 13,
   "metadata": {},
   "outputs": [
    {
     "data": {
      "text/plain": [
       "63063"
      ]
     },
     "execution_count": 13,
     "metadata": {},
     "output_type": "execute_result"
    }
   ],
   "source": [
    "len(songs)"
   ]
  },
  {
   "cell_type": "code",
   "execution_count": 17,
   "metadata": {},
   "outputs": [],
   "source": [
    "load_songs = pickle.load(open('songs_spotify.pkl', 'rb'))"
   ]
  },
  {
   "cell_type": "code",
   "execution_count": 18,
   "metadata": {},
   "outputs": [
    {
     "data": {
      "text/plain": [
       "63063"
      ]
     },
     "execution_count": 18,
     "metadata": {},
     "output_type": "execute_result"
    }
   ],
   "source": [
    "len(load_songs)"
   ]
  },
  {
   "cell_type": "code",
   "execution_count": 20,
   "metadata": {},
   "outputs": [
    {
     "name": "stdout",
     "output_type": "stream",
     "text": [
      "abc\n"
     ]
    }
   ],
   "source": [
    "print('abc')"
   ]
  },
  {
   "cell_type": "code",
   "execution_count": null,
   "metadata": {},
   "outputs": [],
   "source": []
  }
 ],
 "metadata": {
  "kernelspec": {
   "display_name": "Python 3",
   "language": "python",
   "name": "python3"
  },
  "language_info": {
   "codemirror_mode": {
    "name": "ipython",
    "version": 3
   },
   "file_extension": ".py",
   "mimetype": "text/x-python",
   "name": "python",
   "nbconvert_exporter": "python",
   "pygments_lexer": "ipython3",
   "version": "3.6.4"
  }
 },
 "nbformat": 4,
 "nbformat_minor": 2
}
